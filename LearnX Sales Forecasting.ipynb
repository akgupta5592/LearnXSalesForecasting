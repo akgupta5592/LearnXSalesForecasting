{
 "cells": [
  {
   "cell_type": "markdown",
   "metadata": {},
   "source": [
    "# Import library"
   ]
  },
  {
   "cell_type": "code",
   "execution_count": 113,
   "metadata": {},
   "outputs": [],
   "source": [
    "import pandas as pd\n",
    "import numpy as np\n",
    "import matplotlib.pyplot as plt\n",
    "import seaborn as sns\n",
    "from lazypredict.Supervised import LazyRegressor\n",
    "import warnings\n",
    "warnings.filterwarnings('ignore')"
   ]
  },
  {
   "cell_type": "markdown",
   "metadata": {},
   "source": [
    "# Read dataset"
   ]
  },
  {
   "cell_type": "code",
   "execution_count": 114,
   "metadata": {},
   "outputs": [],
   "source": [
    "train=pd.read_csv('train.csv')\n",
    "test=pd.read_csv('test_syuMjMz.csv')"
   ]
  },
  {
   "cell_type": "code",
   "execution_count": 115,
   "metadata": {},
   "outputs": [
    {
     "name": "stdout",
     "output_type": "stream",
     "text": [
      "(512087, 11)\n",
      "(36000, 9)\n"
     ]
    }
   ],
   "source": [
    "print(train.shape)\n",
    "print(test.shape)"
   ]
  },
  {
   "cell_type": "markdown",
   "metadata": {},
   "source": [
    "# Data Exploration"
   ]
  },
  {
   "cell_type": "code",
   "execution_count": 116,
   "metadata": {},
   "outputs": [
    {
     "name": "stdout",
     "output_type": "stream",
     "text": [
      "Index(['ID', 'Day_No', 'Course_ID', 'Course_Domain', 'Course_Type',\n",
      "       'Short_Promotion', 'Public_Holiday', 'Long_Promotion', 'User_Traffic',\n",
      "       'Competition_Metric', 'Sales'],\n",
      "      dtype='object')\n",
      "--------------------------------------------------\n",
      "Index(['ID', 'Day_No', 'Course_ID', 'Course_Domain', 'Course_Type',\n",
      "       'Short_Promotion', 'Public_Holiday', 'Long_Promotion',\n",
      "       'Competition_Metric'],\n",
      "      dtype='object')\n"
     ]
    }
   ],
   "source": [
    "print(train.columns)\n",
    "print('-'*50)\n",
    "print(test.columns)"
   ]
  },
  {
   "cell_type": "code",
   "execution_count": 117,
   "metadata": {},
   "outputs": [
    {
     "data": {
      "text/html": [
       "<div>\n",
       "<style scoped>\n",
       "    .dataframe tbody tr th:only-of-type {\n",
       "        vertical-align: middle;\n",
       "    }\n",
       "\n",
       "    .dataframe tbody tr th {\n",
       "        vertical-align: top;\n",
       "    }\n",
       "\n",
       "    .dataframe thead th {\n",
       "        text-align: right;\n",
       "    }\n",
       "</style>\n",
       "<table border=\"1\" class=\"dataframe\">\n",
       "  <thead>\n",
       "    <tr style=\"text-align: right;\">\n",
       "      <th></th>\n",
       "      <th>ID</th>\n",
       "      <th>Day_No</th>\n",
       "      <th>Course_ID</th>\n",
       "      <th>Course_Domain</th>\n",
       "      <th>Course_Type</th>\n",
       "      <th>Short_Promotion</th>\n",
       "      <th>Public_Holiday</th>\n",
       "      <th>Long_Promotion</th>\n",
       "      <th>User_Traffic</th>\n",
       "      <th>Competition_Metric</th>\n",
       "      <th>Sales</th>\n",
       "    </tr>\n",
       "  </thead>\n",
       "  <tbody>\n",
       "    <tr>\n",
       "      <th>0</th>\n",
       "      <td>1</td>\n",
       "      <td>1</td>\n",
       "      <td>1</td>\n",
       "      <td>Development</td>\n",
       "      <td>Course</td>\n",
       "      <td>0</td>\n",
       "      <td>1</td>\n",
       "      <td>1</td>\n",
       "      <td>11004</td>\n",
       "      <td>0.01</td>\n",
       "      <td>81</td>\n",
       "    </tr>\n",
       "    <tr>\n",
       "      <th>1</th>\n",
       "      <td>2</td>\n",
       "      <td>2</td>\n",
       "      <td>1</td>\n",
       "      <td>Development</td>\n",
       "      <td>Course</td>\n",
       "      <td>0</td>\n",
       "      <td>0</td>\n",
       "      <td>1</td>\n",
       "      <td>13650</td>\n",
       "      <td>0.01</td>\n",
       "      <td>79</td>\n",
       "    </tr>\n",
       "    <tr>\n",
       "      <th>2</th>\n",
       "      <td>3</td>\n",
       "      <td>3</td>\n",
       "      <td>1</td>\n",
       "      <td>Development</td>\n",
       "      <td>Course</td>\n",
       "      <td>0</td>\n",
       "      <td>0</td>\n",
       "      <td>1</td>\n",
       "      <td>11655</td>\n",
       "      <td>0.01</td>\n",
       "      <td>75</td>\n",
       "    </tr>\n",
       "    <tr>\n",
       "      <th>3</th>\n",
       "      <td>4</td>\n",
       "      <td>4</td>\n",
       "      <td>1</td>\n",
       "      <td>Development</td>\n",
       "      <td>Course</td>\n",
       "      <td>0</td>\n",
       "      <td>0</td>\n",
       "      <td>1</td>\n",
       "      <td>12054</td>\n",
       "      <td>0.01</td>\n",
       "      <td>80</td>\n",
       "    </tr>\n",
       "    <tr>\n",
       "      <th>4</th>\n",
       "      <td>5</td>\n",
       "      <td>5</td>\n",
       "      <td>1</td>\n",
       "      <td>Development</td>\n",
       "      <td>Course</td>\n",
       "      <td>0</td>\n",
       "      <td>0</td>\n",
       "      <td>1</td>\n",
       "      <td>6804</td>\n",
       "      <td>0.01</td>\n",
       "      <td>41</td>\n",
       "    </tr>\n",
       "  </tbody>\n",
       "</table>\n",
       "</div>"
      ],
      "text/plain": [
       "   ID  Day_No  Course_ID Course_Domain Course_Type  Short_Promotion  \\\n",
       "0   1       1          1   Development      Course                0   \n",
       "1   2       2          1   Development      Course                0   \n",
       "2   3       3          1   Development      Course                0   \n",
       "3   4       4          1   Development      Course                0   \n",
       "4   5       5          1   Development      Course                0   \n",
       "\n",
       "   Public_Holiday  Long_Promotion  User_Traffic  Competition_Metric  Sales  \n",
       "0               1               1         11004                0.01     81  \n",
       "1               0               1         13650                0.01     79  \n",
       "2               0               1         11655                0.01     75  \n",
       "3               0               1         12054                0.01     80  \n",
       "4               0               1          6804                0.01     41  "
      ]
     },
     "execution_count": 117,
     "metadata": {},
     "output_type": "execute_result"
    }
   ],
   "source": [
    "train.head()"
   ]
  },
  {
   "cell_type": "code",
   "execution_count": 118,
   "metadata": {},
   "outputs": [
    {
     "name": "stdout",
     "output_type": "stream",
     "text": [
      "<class 'pandas.core.frame.DataFrame'>\n",
      "RangeIndex: 512087 entries, 0 to 512086\n",
      "Data columns (total 11 columns):\n",
      " #   Column              Non-Null Count   Dtype  \n",
      "---  ------              --------------   -----  \n",
      " 0   ID                  512087 non-null  int64  \n",
      " 1   Day_No              512087 non-null  int64  \n",
      " 2   Course_ID           512087 non-null  int64  \n",
      " 3   Course_Domain       512087 non-null  object \n",
      " 4   Course_Type         512087 non-null  object \n",
      " 5   Short_Promotion     512087 non-null  int64  \n",
      " 6   Public_Holiday      512087 non-null  int64  \n",
      " 7   Long_Promotion      512087 non-null  int64  \n",
      " 8   User_Traffic        512087 non-null  int64  \n",
      " 9   Competition_Metric  510323 non-null  float64\n",
      " 10  Sales               512087 non-null  int64  \n",
      "dtypes: float64(1), int64(8), object(2)\n",
      "memory usage: 43.0+ MB\n"
     ]
    }
   ],
   "source": [
    "train.info()"
   ]
  },
  {
   "cell_type": "code",
   "execution_count": 119,
   "metadata": {},
   "outputs": [
    {
     "data": {
      "text/html": [
       "<div>\n",
       "<style scoped>\n",
       "    .dataframe tbody tr th:only-of-type {\n",
       "        vertical-align: middle;\n",
       "    }\n",
       "\n",
       "    .dataframe tbody tr th {\n",
       "        vertical-align: top;\n",
       "    }\n",
       "\n",
       "    .dataframe thead th {\n",
       "        text-align: right;\n",
       "    }\n",
       "</style>\n",
       "<table border=\"1\" class=\"dataframe\">\n",
       "  <thead>\n",
       "    <tr style=\"text-align: right;\">\n",
       "      <th></th>\n",
       "      <th>ID</th>\n",
       "      <th>Day_No</th>\n",
       "      <th>Course_ID</th>\n",
       "      <th>Short_Promotion</th>\n",
       "      <th>Public_Holiday</th>\n",
       "      <th>Long_Promotion</th>\n",
       "      <th>User_Traffic</th>\n",
       "      <th>Competition_Metric</th>\n",
       "      <th>Sales</th>\n",
       "    </tr>\n",
       "  </thead>\n",
       "  <tbody>\n",
       "    <tr>\n",
       "      <th>count</th>\n",
       "      <td>512087.00</td>\n",
       "      <td>512087.00</td>\n",
       "      <td>512087.00</td>\n",
       "      <td>512087.00</td>\n",
       "      <td>512087.00</td>\n",
       "      <td>512087.00</td>\n",
       "      <td>512087.00</td>\n",
       "      <td>510323.00</td>\n",
       "      <td>512087.00</td>\n",
       "    </tr>\n",
       "    <tr>\n",
       "      <th>mean</th>\n",
       "      <td>274007.30</td>\n",
       "      <td>434.92</td>\n",
       "      <td>300.39</td>\n",
       "      <td>0.38</td>\n",
       "      <td>0.03</td>\n",
       "      <td>0.49</td>\n",
       "      <td>15375.10</td>\n",
       "      <td>0.07</td>\n",
       "      <td>120.83</td>\n",
       "    </tr>\n",
       "    <tr>\n",
       "      <th>std</th>\n",
       "      <td>158228.83</td>\n",
       "      <td>256.04</td>\n",
       "      <td>173.37</td>\n",
       "      <td>0.49</td>\n",
       "      <td>0.18</td>\n",
       "      <td>0.50</td>\n",
       "      <td>7727.23</td>\n",
       "      <td>0.10</td>\n",
       "      <td>54.36</td>\n",
       "    </tr>\n",
       "    <tr>\n",
       "      <th>min</th>\n",
       "      <td>1.00</td>\n",
       "      <td>1.00</td>\n",
       "      <td>1.00</td>\n",
       "      <td>0.00</td>\n",
       "      <td>0.00</td>\n",
       "      <td>0.00</td>\n",
       "      <td>168.00</td>\n",
       "      <td>0.00</td>\n",
       "      <td>0.00</td>\n",
       "    </tr>\n",
       "    <tr>\n",
       "      <th>25%</th>\n",
       "      <td>136962.50</td>\n",
       "      <td>214.00</td>\n",
       "      <td>150.00</td>\n",
       "      <td>0.00</td>\n",
       "      <td>0.00</td>\n",
       "      <td>0.00</td>\n",
       "      <td>10584.00</td>\n",
       "      <td>0.01</td>\n",
       "      <td>84.00</td>\n",
       "    </tr>\n",
       "    <tr>\n",
       "      <th>50%</th>\n",
       "      <td>273984.00</td>\n",
       "      <td>427.00</td>\n",
       "      <td>300.00</td>\n",
       "      <td>0.00</td>\n",
       "      <td>0.00</td>\n",
       "      <td>0.00</td>\n",
       "      <td>13776.00</td>\n",
       "      <td>0.04</td>\n",
       "      <td>111.00</td>\n",
       "    </tr>\n",
       "    <tr>\n",
       "      <th>75%</th>\n",
       "      <td>411065.50</td>\n",
       "      <td>658.00</td>\n",
       "      <td>451.00</td>\n",
       "      <td>1.00</td>\n",
       "      <td>0.00</td>\n",
       "      <td>1.00</td>\n",
       "      <td>18123.00</td>\n",
       "      <td>0.09</td>\n",
       "      <td>146.00</td>\n",
       "    </tr>\n",
       "    <tr>\n",
       "      <th>max</th>\n",
       "      <td>548027.00</td>\n",
       "      <td>882.00</td>\n",
       "      <td>600.00</td>\n",
       "      <td>1.00</td>\n",
       "      <td>1.00</td>\n",
       "      <td>1.00</td>\n",
       "      <td>100002.00</td>\n",
       "      <td>0.77</td>\n",
       "      <td>682.00</td>\n",
       "    </tr>\n",
       "  </tbody>\n",
       "</table>\n",
       "</div>"
      ],
      "text/plain": [
       "             ID    Day_No  Course_ID  Short_Promotion  Public_Holiday  \\\n",
       "count 512087.00 512087.00  512087.00        512087.00       512087.00   \n",
       "mean  274007.30    434.92     300.39             0.38            0.03   \n",
       "std   158228.83    256.04     173.37             0.49            0.18   \n",
       "min        1.00      1.00       1.00             0.00            0.00   \n",
       "25%   136962.50    214.00     150.00             0.00            0.00   \n",
       "50%   273984.00    427.00     300.00             0.00            0.00   \n",
       "75%   411065.50    658.00     451.00             1.00            0.00   \n",
       "max   548027.00    882.00     600.00             1.00            1.00   \n",
       "\n",
       "       Long_Promotion  User_Traffic  Competition_Metric     Sales  \n",
       "count       512087.00     512087.00           510323.00 512087.00  \n",
       "mean             0.49      15375.10                0.07    120.83  \n",
       "std              0.50       7727.23                0.10     54.36  \n",
       "min              0.00        168.00                0.00      0.00  \n",
       "25%              0.00      10584.00                0.01     84.00  \n",
       "50%              0.00      13776.00                0.04    111.00  \n",
       "75%              1.00      18123.00                0.09    146.00  \n",
       "max              1.00     100002.00                0.77    682.00  "
      ]
     },
     "execution_count": 119,
     "metadata": {},
     "output_type": "execute_result"
    }
   ],
   "source": [
    "train.describe()"
   ]
  },
  {
   "cell_type": "code",
   "execution_count": 120,
   "metadata": {},
   "outputs": [
    {
     "data": {
      "text/html": [
       "<div>\n",
       "<style scoped>\n",
       "    .dataframe tbody tr th:only-of-type {\n",
       "        vertical-align: middle;\n",
       "    }\n",
       "\n",
       "    .dataframe tbody tr th {\n",
       "        vertical-align: top;\n",
       "    }\n",
       "\n",
       "    .dataframe thead th {\n",
       "        text-align: right;\n",
       "    }\n",
       "</style>\n",
       "<table border=\"1\" class=\"dataframe\">\n",
       "  <thead>\n",
       "    <tr style=\"text-align: right;\">\n",
       "      <th></th>\n",
       "      <th>ID</th>\n",
       "      <th>Day_No</th>\n",
       "      <th>Course_ID</th>\n",
       "      <th>Course_Domain</th>\n",
       "      <th>Course_Type</th>\n",
       "      <th>Short_Promotion</th>\n",
       "      <th>Public_Holiday</th>\n",
       "      <th>Long_Promotion</th>\n",
       "      <th>Competition_Metric</th>\n",
       "    </tr>\n",
       "  </thead>\n",
       "  <tbody>\n",
       "    <tr>\n",
       "      <th>0</th>\n",
       "      <td>883</td>\n",
       "      <td>883</td>\n",
       "      <td>1</td>\n",
       "      <td>Development</td>\n",
       "      <td>Course</td>\n",
       "      <td>1</td>\n",
       "      <td>0</td>\n",
       "      <td>1</td>\n",
       "      <td>0.01</td>\n",
       "    </tr>\n",
       "    <tr>\n",
       "      <th>1</th>\n",
       "      <td>884</td>\n",
       "      <td>884</td>\n",
       "      <td>1</td>\n",
       "      <td>Development</td>\n",
       "      <td>Course</td>\n",
       "      <td>1</td>\n",
       "      <td>0</td>\n",
       "      <td>1</td>\n",
       "      <td>0.01</td>\n",
       "    </tr>\n",
       "    <tr>\n",
       "      <th>2</th>\n",
       "      <td>885</td>\n",
       "      <td>885</td>\n",
       "      <td>1</td>\n",
       "      <td>Development</td>\n",
       "      <td>Course</td>\n",
       "      <td>1</td>\n",
       "      <td>0</td>\n",
       "      <td>1</td>\n",
       "      <td>0.01</td>\n",
       "    </tr>\n",
       "    <tr>\n",
       "      <th>3</th>\n",
       "      <td>886</td>\n",
       "      <td>886</td>\n",
       "      <td>1</td>\n",
       "      <td>Development</td>\n",
       "      <td>Course</td>\n",
       "      <td>1</td>\n",
       "      <td>0</td>\n",
       "      <td>1</td>\n",
       "      <td>0.01</td>\n",
       "    </tr>\n",
       "    <tr>\n",
       "      <th>4</th>\n",
       "      <td>887</td>\n",
       "      <td>887</td>\n",
       "      <td>1</td>\n",
       "      <td>Development</td>\n",
       "      <td>Course</td>\n",
       "      <td>0</td>\n",
       "      <td>0</td>\n",
       "      <td>1</td>\n",
       "      <td>0.01</td>\n",
       "    </tr>\n",
       "  </tbody>\n",
       "</table>\n",
       "</div>"
      ],
      "text/plain": [
       "    ID  Day_No  Course_ID Course_Domain Course_Type  Short_Promotion  \\\n",
       "0  883     883          1   Development      Course                1   \n",
       "1  884     884          1   Development      Course                1   \n",
       "2  885     885          1   Development      Course                1   \n",
       "3  886     886          1   Development      Course                1   \n",
       "4  887     887          1   Development      Course                0   \n",
       "\n",
       "   Public_Holiday  Long_Promotion  Competition_Metric  \n",
       "0               0               1                0.01  \n",
       "1               0               1                0.01  \n",
       "2               0               1                0.01  \n",
       "3               0               1                0.01  \n",
       "4               0               1                0.01  "
      ]
     },
     "execution_count": 120,
     "metadata": {},
     "output_type": "execute_result"
    }
   ],
   "source": [
    "test.head()"
   ]
  },
  {
   "cell_type": "code",
   "execution_count": 121,
   "metadata": {},
   "outputs": [
    {
     "name": "stdout",
     "output_type": "stream",
     "text": [
      "<class 'pandas.core.frame.DataFrame'>\n",
      "RangeIndex: 36000 entries, 0 to 35999\n",
      "Data columns (total 9 columns):\n",
      " #   Column              Non-Null Count  Dtype  \n",
      "---  ------              --------------  -----  \n",
      " 0   ID                  36000 non-null  int64  \n",
      " 1   Day_No              36000 non-null  int64  \n",
      " 2   Course_ID           36000 non-null  int64  \n",
      " 3   Course_Domain       36000 non-null  object \n",
      " 4   Course_Type         36000 non-null  object \n",
      " 5   Short_Promotion     36000 non-null  int64  \n",
      " 6   Public_Holiday      36000 non-null  int64  \n",
      " 7   Long_Promotion      36000 non-null  int64  \n",
      " 8   Competition_Metric  35880 non-null  float64\n",
      "dtypes: float64(1), int64(6), object(2)\n",
      "memory usage: 2.5+ MB\n"
     ]
    }
   ],
   "source": [
    "test.info()"
   ]
  },
  {
   "cell_type": "code",
   "execution_count": 122,
   "metadata": {},
   "outputs": [
    {
     "data": {
      "text/html": [
       "<div>\n",
       "<style scoped>\n",
       "    .dataframe tbody tr th:only-of-type {\n",
       "        vertical-align: middle;\n",
       "    }\n",
       "\n",
       "    .dataframe tbody tr th {\n",
       "        vertical-align: top;\n",
       "    }\n",
       "\n",
       "    .dataframe thead th {\n",
       "        text-align: right;\n",
       "    }\n",
       "</style>\n",
       "<table border=\"1\" class=\"dataframe\">\n",
       "  <thead>\n",
       "    <tr style=\"text-align: right;\">\n",
       "      <th></th>\n",
       "      <th>ID</th>\n",
       "      <th>Day_No</th>\n",
       "      <th>Course_ID</th>\n",
       "      <th>Short_Promotion</th>\n",
       "      <th>Public_Holiday</th>\n",
       "      <th>Long_Promotion</th>\n",
       "      <th>Competition_Metric</th>\n",
       "    </tr>\n",
       "  </thead>\n",
       "  <tbody>\n",
       "    <tr>\n",
       "      <th>count</th>\n",
       "      <td>36000.00</td>\n",
       "      <td>36000.00</td>\n",
       "      <td>36000.00</td>\n",
       "      <td>36000.00</td>\n",
       "      <td>36000.00</td>\n",
       "      <td>36000.00</td>\n",
       "      <td>35880.00</td>\n",
       "    </tr>\n",
       "    <tr>\n",
       "      <th>mean</th>\n",
       "      <td>274566.03</td>\n",
       "      <td>912.50</td>\n",
       "      <td>300.50</td>\n",
       "      <td>0.40</td>\n",
       "      <td>0.01</td>\n",
       "      <td>0.50</td>\n",
       "      <td>0.07</td>\n",
       "    </tr>\n",
       "    <tr>\n",
       "      <th>std</th>\n",
       "      <td>158083.87</td>\n",
       "      <td>17.32</td>\n",
       "      <td>173.21</td>\n",
       "      <td>0.49</td>\n",
       "      <td>0.10</td>\n",
       "      <td>0.50</td>\n",
       "      <td>0.10</td>\n",
       "    </tr>\n",
       "    <tr>\n",
       "      <th>min</th>\n",
       "      <td>883.00</td>\n",
       "      <td>883.00</td>\n",
       "      <td>1.00</td>\n",
       "      <td>0.00</td>\n",
       "      <td>0.00</td>\n",
       "      <td>0.00</td>\n",
       "      <td>0.00</td>\n",
       "    </tr>\n",
       "    <tr>\n",
       "      <th>25%</th>\n",
       "      <td>137730.25</td>\n",
       "      <td>897.75</td>\n",
       "      <td>150.75</td>\n",
       "      <td>0.00</td>\n",
       "      <td>0.00</td>\n",
       "      <td>0.00</td>\n",
       "      <td>0.01</td>\n",
       "    </tr>\n",
       "    <tr>\n",
       "      <th>50%</th>\n",
       "      <td>274761.50</td>\n",
       "      <td>912.50</td>\n",
       "      <td>300.50</td>\n",
       "      <td>0.00</td>\n",
       "      <td>0.00</td>\n",
       "      <td>1.00</td>\n",
       "      <td>0.03</td>\n",
       "    </tr>\n",
       "    <tr>\n",
       "      <th>75%</th>\n",
       "      <td>410872.75</td>\n",
       "      <td>927.25</td>\n",
       "      <td>450.25</td>\n",
       "      <td>1.00</td>\n",
       "      <td>0.00</td>\n",
       "      <td>1.00</td>\n",
       "      <td>0.09</td>\n",
       "    </tr>\n",
       "    <tr>\n",
       "      <th>max</th>\n",
       "      <td>548087.00</td>\n",
       "      <td>942.00</td>\n",
       "      <td>600.00</td>\n",
       "      <td>1.00</td>\n",
       "      <td>1.00</td>\n",
       "      <td>1.00</td>\n",
       "      <td>0.77</td>\n",
       "    </tr>\n",
       "  </tbody>\n",
       "</table>\n",
       "</div>"
      ],
      "text/plain": [
       "             ID   Day_No  Course_ID  Short_Promotion  Public_Holiday  \\\n",
       "count  36000.00 36000.00   36000.00         36000.00        36000.00   \n",
       "mean  274566.03   912.50     300.50             0.40            0.01   \n",
       "std   158083.87    17.32     173.21             0.49            0.10   \n",
       "min      883.00   883.00       1.00             0.00            0.00   \n",
       "25%   137730.25   897.75     150.75             0.00            0.00   \n",
       "50%   274761.50   912.50     300.50             0.00            0.00   \n",
       "75%   410872.75   927.25     450.25             1.00            0.00   \n",
       "max   548087.00   942.00     600.00             1.00            1.00   \n",
       "\n",
       "       Long_Promotion  Competition_Metric  \n",
       "count        36000.00            35880.00  \n",
       "mean             0.50                0.07  \n",
       "std              0.50                0.10  \n",
       "min              0.00                0.00  \n",
       "25%              0.00                0.01  \n",
       "50%              1.00                0.03  \n",
       "75%              1.00                0.09  \n",
       "max              1.00                0.77  "
      ]
     },
     "execution_count": 122,
     "metadata": {},
     "output_type": "execute_result"
    }
   ],
   "source": [
    "test.describe()"
   ]
  },
  {
   "cell_type": "code",
   "execution_count": 123,
   "metadata": {},
   "outputs": [],
   "source": [
    "train.fillna(0,inplace=True)"
   ]
  },
  {
   "cell_type": "code",
   "execution_count": 124,
   "metadata": {},
   "outputs": [],
   "source": [
    "test.fillna(0,inplace=True)"
   ]
  },
  {
   "cell_type": "code",
   "execution_count": 125,
   "metadata": {},
   "outputs": [
    {
     "data": {
      "text/plain": [
       "<AxesSubplot:xlabel='Course_Domain', ylabel='count'>"
      ]
     },
     "execution_count": 125,
     "metadata": {},
     "output_type": "execute_result"
    },
    {
     "data": {
      "image/png": "[encoded data removed]",
      "text/plain": [
       "<Figure size 432x288 with 1 Axes>"
      ]
     },
     "metadata": {
      "needs_background": "light"
     },
     "output_type": "display_data"
    }
   ],
   "source": [
    "sns.countplot(train['Course_Domain'])"
   ]
  },
  {
   "cell_type": "code",
   "execution_count": 126,
   "metadata": {},
   "outputs": [
    {
     "data": {
      "text/plain": [
       "<AxesSubplot:xlabel='Course_Domain', ylabel='count'>"
      ]
     },
     "execution_count": 126,
     "metadata": {},
     "output_type": "execute_result"
    },
    {
     "data": {
      "image/png": "[encoded data removed]",
      "text/plain": [
       "<Figure size 432x288 with 1 Axes>"
      ]
     },
     "metadata": {
      "needs_background": "light"
     },
     "output_type": "display_data"
    }
   ],
   "source": [
    "sns.countplot(test['Course_Domain'])"
   ]
  },
  {
   "cell_type": "code",
   "execution_count": 127,
   "metadata": {},
   "outputs": [],
   "source": [
    "train=pd.get_dummies(train, columns= ['Course_Domain'], drop_first=True)\n",
    "test=pd.get_dummies(test, columns= ['Course_Domain'], drop_first=True)"
   ]
  },
  {
   "cell_type": "code",
   "execution_count": 128,
   "metadata": {},
   "outputs": [
    {
     "data": {
      "text/plain": [
       "<AxesSubplot:xlabel='Course_Type', ylabel='count'>"
      ]
     },
     "execution_count": 128,
     "metadata": {},
     "output_type": "execute_result"
    },
    {
     "data": {
      "image/png": "[encoded data removed]",
      "text/plain": [
       "<Figure size 432x288 with 1 Axes>"
      ]
     },
     "metadata": {
      "needs_background": "light"
     },
     "output_type": "display_data"
    }
   ],
   "source": [
    "sns.countplot(train['Course_Type'])"
   ]
  },
  {
   "cell_type": "code",
   "execution_count": 129,
   "metadata": {},
   "outputs": [
    {
     "data": {
      "text/plain": [
       "<AxesSubplot:xlabel='Course_Type', ylabel='count'>"
      ]
     },
     "execution_count": 129,
     "metadata": {},
     "output_type": "execute_result"
    },
    {
     "data": {
      "image/png": "[encoded data removed]",
      "text/plain": [
       "<Figure size 432x288 with 1 Axes>"
      ]
     },
     "metadata": {
      "needs_background": "light"
     },
     "output_type": "display_data"
    }
   ],
   "source": [
    "sns.countplot(test['Course_Type'])"
   ]
  },
  {
   "cell_type": "code",
   "execution_count": 130,
   "metadata": {},
   "outputs": [],
   "source": [
    "train=pd.get_dummies(train, columns= ['Course_Type'], drop_first=True)\n",
    "test=pd.get_dummies(test, columns= ['Course_Type'], drop_first=True)"
   ]
  },
  {
   "cell_type": "code",
   "execution_count": 131,
   "metadata": {},
   "outputs": [
    {
     "data": {
      "text/html": [
       "<div>\n",
       "<style scoped>\n",
       "    .dataframe tbody tr th:only-of-type {\n",
       "        vertical-align: middle;\n",
       "    }\n",
       "\n",
       "    .dataframe tbody tr th {\n",
       "        vertical-align: top;\n",
       "    }\n",
       "\n",
       "    .dataframe thead th {\n",
       "        text-align: right;\n",
       "    }\n",
       "</style>\n",
       "<table border=\"1\" class=\"dataframe\">\n",
       "  <thead>\n",
       "    <tr style=\"text-align: right;\">\n",
       "      <th></th>\n",
       "      <th>ID</th>\n",
       "      <th>Day_No</th>\n",
       "      <th>Course_ID</th>\n",
       "      <th>Short_Promotion</th>\n",
       "      <th>Public_Holiday</th>\n",
       "      <th>Long_Promotion</th>\n",
       "      <th>User_Traffic</th>\n",
       "      <th>Competition_Metric</th>\n",
       "      <th>Sales</th>\n",
       "      <th>Course_Domain_Development</th>\n",
       "      <th>Course_Domain_Finance &amp; Accounting</th>\n",
       "      <th>Course_Domain_Software Marketing</th>\n",
       "      <th>Course_Type_Degree</th>\n",
       "      <th>Course_Type_Program</th>\n",
       "    </tr>\n",
       "  </thead>\n",
       "  <tbody>\n",
       "    <tr>\n",
       "      <th>0</th>\n",
       "      <td>1</td>\n",
       "      <td>1</td>\n",
       "      <td>1</td>\n",
       "      <td>0</td>\n",
       "      <td>1</td>\n",
       "      <td>1</td>\n",
       "      <td>11004</td>\n",
       "      <td>0.01</td>\n",
       "      <td>81</td>\n",
       "      <td>1</td>\n",
       "      <td>0</td>\n",
       "      <td>0</td>\n",
       "      <td>0</td>\n",
       "      <td>0</td>\n",
       "    </tr>\n",
       "    <tr>\n",
       "      <th>1</th>\n",
       "      <td>2</td>\n",
       "      <td>2</td>\n",
       "      <td>1</td>\n",
       "      <td>0</td>\n",
       "      <td>0</td>\n",
       "      <td>1</td>\n",
       "      <td>13650</td>\n",
       "      <td>0.01</td>\n",
       "      <td>79</td>\n",
       "      <td>1</td>\n",
       "      <td>0</td>\n",
       "      <td>0</td>\n",
       "      <td>0</td>\n",
       "      <td>0</td>\n",
       "    </tr>\n",
       "    <tr>\n",
       "      <th>2</th>\n",
       "      <td>3</td>\n",
       "      <td>3</td>\n",
       "      <td>1</td>\n",
       "      <td>0</td>\n",
       "      <td>0</td>\n",
       "      <td>1</td>\n",
       "      <td>11655</td>\n",
       "      <td>0.01</td>\n",
       "      <td>75</td>\n",
       "      <td>1</td>\n",
       "      <td>0</td>\n",
       "      <td>0</td>\n",
       "      <td>0</td>\n",
       "      <td>0</td>\n",
       "    </tr>\n",
       "    <tr>\n",
       "      <th>3</th>\n",
       "      <td>4</td>\n",
       "      <td>4</td>\n",
       "      <td>1</td>\n",
       "      <td>0</td>\n",
       "      <td>0</td>\n",
       "      <td>1</td>\n",
       "      <td>12054</td>\n",
       "      <td>0.01</td>\n",
       "      <td>80</td>\n",
       "      <td>1</td>\n",
       "      <td>0</td>\n",
       "      <td>0</td>\n",
       "      <td>0</td>\n",
       "      <td>0</td>\n",
       "    </tr>\n",
       "    <tr>\n",
       "      <th>4</th>\n",
       "      <td>5</td>\n",
       "      <td>5</td>\n",
       "      <td>1</td>\n",
       "      <td>0</td>\n",
       "      <td>0</td>\n",
       "      <td>1</td>\n",
       "      <td>6804</td>\n",
       "      <td>0.01</td>\n",
       "      <td>41</td>\n",
       "      <td>1</td>\n",
       "      <td>0</td>\n",
       "      <td>0</td>\n",
       "      <td>0</td>\n",
       "      <td>0</td>\n",
       "    </tr>\n",
       "  </tbody>\n",
       "</table>\n",
       "</div>"
      ],
      "text/plain": [
       "   ID  Day_No  Course_ID  Short_Promotion  Public_Holiday  Long_Promotion  \\\n",
       "0   1       1          1                0               1               1   \n",
       "1   2       2          1                0               0               1   \n",
       "2   3       3          1                0               0               1   \n",
       "3   4       4          1                0               0               1   \n",
       "4   5       5          1                0               0               1   \n",
       "\n",
       "   User_Traffic  Competition_Metric  Sales  Course_Domain_Development  \\\n",
       "0         11004                0.01     81                          1   \n",
       "1         13650                0.01     79                          1   \n",
       "2         11655                0.01     75                          1   \n",
       "3         12054                0.01     80                          1   \n",
       "4          6804                0.01     41                          1   \n",
       "\n",
       "   Course_Domain_Finance & Accounting  Course_Domain_Software Marketing  \\\n",
       "0                                   0                                 0   \n",
       "1                                   0                                 0   \n",
       "2                                   0                                 0   \n",
       "3                                   0                                 0   \n",
       "4                                   0                                 0   \n",
       "\n",
       "   Course_Type_Degree  Course_Type_Program  \n",
       "0                   0                    0  \n",
       "1                   0                    0  \n",
       "2                   0                    0  \n",
       "3                   0                    0  \n",
       "4                   0                    0  "
      ]
     },
     "execution_count": 131,
     "metadata": {},
     "output_type": "execute_result"
    }
   ],
   "source": [
    "train.head()"
   ]
  },
  {
   "cell_type": "code",
   "execution_count": 132,
   "metadata": {},
   "outputs": [
    {
     "data": {
      "text/plain": [
       "<AxesSubplot:xlabel='Short_Promotion', ylabel='count'>"
      ]
     },
     "execution_count": 132,
     "metadata": {},
     "output_type": "execute_result"
    },
    {
     "data": {
      "image/png": "[encoded data removed]",
      "text/plain": [
       "<Figure size 432x288 with 1 Axes>"
      ]
     },
     "metadata": {
      "needs_background": "light"
     },
     "output_type": "display_data"
    }
   ],
   "source": [
    "sns.countplot(train['Short_Promotion'])"
   ]
  },
  {
   "cell_type": "code",
   "execution_count": 133,
   "metadata": {},
   "outputs": [
    {
     "data": {
      "text/plain": [
       "<AxesSubplot:xlabel='Short_Promotion', ylabel='count'>"
      ]
     },
     "execution_count": 133,
     "metadata": {},
     "output_type": "execute_result"
    },
    {
     "data": {
      "image/png": "[encoded data removed]",
      "text/plain": [
       "<Figure size 432x288 with 1 Axes>"
      ]
     },
     "metadata": {
      "needs_background": "light"
     },
     "output_type": "display_data"
    }
   ],
   "source": [
    "sns.countplot(test['Short_Promotion'])"
   ]
  },
  {
   "cell_type": "code",
   "execution_count": 134,
   "metadata": {},
   "outputs": [
    {
     "data": {
      "text/plain": [
       "<AxesSubplot:xlabel='Long_Promotion', ylabel='count'>"
      ]
     },
     "execution_count": 134,
     "metadata": {},
     "output_type": "execute_result"
    },
    {
     "data": {
      "image/png": "[encoded data removed]",
      "text/plain": [
       "<Figure size 432x288 with 1 Axes>"
      ]
     },
     "metadata": {
      "needs_background": "light"
     },
     "output_type": "display_data"
    }
   ],
   "source": [
    "sns.countplot(train['Long_Promotion'])"
   ]
  },
  {
   "cell_type": "code",
   "execution_count": 135,
   "metadata": {},
   "outputs": [
    {
     "data": {
      "text/plain": [
       "<AxesSubplot:xlabel='Long_Promotion', ylabel='count'>"
      ]
     },
     "execution_count": 135,
     "metadata": {},
     "output_type": "execute_result"
    },
    {
     "data": {
      "image/png": "[encoded data removed]",
      "text/plain": [
       "<Figure size 432x288 with 1 Axes>"
      ]
     },
     "metadata": {
      "needs_background": "light"
     },
     "output_type": "display_data"
    }
   ],
   "source": [
    "sns.countplot(test['Long_Promotion'])"
   ]
  },
  {
   "cell_type": "code",
   "execution_count": 136,
   "metadata": {},
   "outputs": [
    {
     "data": {
      "text/plain": [
       "<AxesSubplot:xlabel='Public_Holiday', ylabel='count'>"
      ]
     },
     "execution_count": 136,
     "metadata": {},
     "output_type": "execute_result"
    },
    {
     "data": {
      "image/png": "[encoded data removed]",
      "text/plain": [
       "<Figure size 432x288 with 1 Axes>"
      ]
     },
     "metadata": {
      "needs_background": "light"
     },
     "output_type": "display_data"
    }
   ],
   "source": [
    "sns.countplot(train['Public_Holiday'])"
   ]
  },
  {
   "cell_type": "code",
   "execution_count": 137,
   "metadata": {},
   "outputs": [
    {
     "data": {
      "text/plain": [
       "<AxesSubplot:xlabel='Public_Holiday', ylabel='count'>"
      ]
     },
     "execution_count": 137,
     "metadata": {},
     "output_type": "execute_result"
    },
    {
     "data": {
      "image/png": "[encoded data removed]",
      "text/plain": [
       "<Figure size 432x288 with 1 Axes>"
      ]
     },
     "metadata": {
      "needs_background": "light"
     },
     "output_type": "display_data"
    }
   ],
   "source": [
    "sns.countplot(test['Public_Holiday'])"
   ]
  },
  {
   "cell_type": "markdown",
   "metadata": {},
   "source": [
    "Visualizsing dependent feature"
   ]
  },
  {
   "cell_type": "code",
   "execution_count": 138,
   "metadata": {},
   "outputs": [
    {
     "data": {
      "text/plain": [
       "<AxesSubplot:>"
      ]
     },
     "execution_count": 138,
     "metadata": {},
     "output_type": "execute_result"
    },
    {
     "data": {
      "image/png": "[encoded data removed]",
      "text/plain": [
       "<Figure size 432x288 with 1 Axes>"
      ]
     },
     "metadata": {
      "needs_background": "light"
     },
     "output_type": "display_data"
    }
   ],
   "source": [
    "train[['Sales']].boxplot()"
   ]
  },
  {
   "cell_type": "code",
   "execution_count": 139,
   "metadata": {},
   "outputs": [
    {
     "data": {
      "text/plain": [
       "<AxesSubplot:xlabel='Sales', ylabel='Density'>"
      ]
     },
     "execution_count": 139,
     "metadata": {},
     "output_type": "execute_result"
    },
    {
     "data": {
      "image/png": "[encoded data removed]",
      "text/plain": [
       "<Figure size 432x288 with 1 Axes>"
      ]
     },
     "metadata": {
      "needs_background": "light"
     },
     "output_type": "display_data"
    }
   ],
   "source": [
    "sns.distplot(train['Sales'])"
   ]
  },
  {
   "cell_type": "raw",
   "metadata": {},
   "source": [
    "* Deviation from normal distribution\n",
    "* Positive skewness which means most values are lesser than its average sales value"
   ]
  },
  {
   "cell_type": "code",
   "execution_count": 140,
   "metadata": {},
   "outputs": [
    {
     "name": "stdout",
     "output_type": "stream",
     "text": [
      "Skewness=  1.374769816079381\n",
      "Kurtosos=  3.6095060518605546\n"
     ]
    }
   ],
   "source": [
    "print('Skewness= ',train['Sales'].skew())\n",
    "print('Kurtosos= ',train['Sales'].kurt())"
   ]
  },
  {
   "cell_type": "raw",
   "metadata": {},
   "source": [
    "Skewness>1: shows target is highly skewed\n",
    "Kurtosis>3L Distribution is longer, Many Outliers"
   ]
  },
  {
   "cell_type": "code",
   "execution_count": 141,
   "metadata": {},
   "outputs": [],
   "source": [
    "train['Day_OF_Week']=train['Day_No']%7"
   ]
  },
  {
   "cell_type": "code",
   "execution_count": 142,
   "metadata": {},
   "outputs": [
    {
     "data": {
      "text/plain": [
       "<AxesSubplot:>"
      ]
     },
     "execution_count": 142,
     "metadata": {},
     "output_type": "execute_result"
    },
    {
     "data": {
      "image/png": "[encoded data removed]",
      "text/plain": [
       "<Figure size 1152x1152 with 2 Axes>"
      ]
     },
     "metadata": {
      "needs_background": "light"
     },
     "output_type": "display_data"
    }
   ],
   "source": [
    "#Plotting correlation using heatmap\n",
    "plt.subplots(figsize=(16,16))\n",
    "sns.heatmap(train.corr(),annot=True)"
   ]
  },
  {
   "cell_type": "markdown",
   "metadata": {},
   "source": [
    "# Dummy Prediction"
   ]
  },
  {
   "cell_type": "code",
   "execution_count": 143,
   "metadata": {},
   "outputs": [],
   "source": [
    "data=train.copy()"
   ]
  },
  {
   "cell_type": "code",
   "execution_count": 144,
   "metadata": {},
   "outputs": [],
   "source": [
    "data.drop('User_Traffic',axis=1,inplace=True)"
   ]
  },
  {
   "cell_type": "code",
   "execution_count": 145,
   "metadata": {},
   "outputs": [
    {
     "data": {
      "text/html": [
       "<div>\n",
       "<style scoped>\n",
       "    .dataframe tbody tr th:only-of-type {\n",
       "        vertical-align: middle;\n",
       "    }\n",
       "\n",
       "    .dataframe tbody tr th {\n",
       "        vertical-align: top;\n",
       "    }\n",
       "\n",
       "    .dataframe thead th {\n",
       "        text-align: right;\n",
       "    }\n",
       "</style>\n",
       "<table border=\"1\" class=\"dataframe\">\n",
       "  <thead>\n",
       "    <tr style=\"text-align: right;\">\n",
       "      <th></th>\n",
       "      <th>ID</th>\n",
       "      <th>Day_No</th>\n",
       "      <th>Course_ID</th>\n",
       "      <th>Short_Promotion</th>\n",
       "      <th>Public_Holiday</th>\n",
       "      <th>Long_Promotion</th>\n",
       "      <th>Competition_Metric</th>\n",
       "      <th>Sales</th>\n",
       "      <th>Course_Domain_Development</th>\n",
       "      <th>Course_Domain_Finance &amp; Accounting</th>\n",
       "      <th>Course_Domain_Software Marketing</th>\n",
       "      <th>Course_Type_Degree</th>\n",
       "      <th>Course_Type_Program</th>\n",
       "      <th>Day_OF_Week</th>\n",
       "    </tr>\n",
       "  </thead>\n",
       "  <tbody>\n",
       "    <tr>\n",
       "      <th>0</th>\n",
       "      <td>1</td>\n",
       "      <td>1</td>\n",
       "      <td>1</td>\n",
       "      <td>0</td>\n",
       "      <td>1</td>\n",
       "      <td>1</td>\n",
       "      <td>0.01</td>\n",
       "      <td>81</td>\n",
       "      <td>1</td>\n",
       "      <td>0</td>\n",
       "      <td>0</td>\n",
       "      <td>0</td>\n",
       "      <td>0</td>\n",
       "      <td>1</td>\n",
       "    </tr>\n",
       "    <tr>\n",
       "      <th>1</th>\n",
       "      <td>2</td>\n",
       "      <td>2</td>\n",
       "      <td>1</td>\n",
       "      <td>0</td>\n",
       "      <td>0</td>\n",
       "      <td>1</td>\n",
       "      <td>0.01</td>\n",
       "      <td>79</td>\n",
       "      <td>1</td>\n",
       "      <td>0</td>\n",
       "      <td>0</td>\n",
       "      <td>0</td>\n",
       "      <td>0</td>\n",
       "      <td>2</td>\n",
       "    </tr>\n",
       "    <tr>\n",
       "      <th>2</th>\n",
       "      <td>3</td>\n",
       "      <td>3</td>\n",
       "      <td>1</td>\n",
       "      <td>0</td>\n",
       "      <td>0</td>\n",
       "      <td>1</td>\n",
       "      <td>0.01</td>\n",
       "      <td>75</td>\n",
       "      <td>1</td>\n",
       "      <td>0</td>\n",
       "      <td>0</td>\n",
       "      <td>0</td>\n",
       "      <td>0</td>\n",
       "      <td>3</td>\n",
       "    </tr>\n",
       "    <tr>\n",
       "      <th>3</th>\n",
       "      <td>4</td>\n",
       "      <td>4</td>\n",
       "      <td>1</td>\n",
       "      <td>0</td>\n",
       "      <td>0</td>\n",
       "      <td>1</td>\n",
       "      <td>0.01</td>\n",
       "      <td>80</td>\n",
       "      <td>1</td>\n",
       "      <td>0</td>\n",
       "      <td>0</td>\n",
       "      <td>0</td>\n",
       "      <td>0</td>\n",
       "      <td>4</td>\n",
       "    </tr>\n",
       "    <tr>\n",
       "      <th>4</th>\n",
       "      <td>5</td>\n",
       "      <td>5</td>\n",
       "      <td>1</td>\n",
       "      <td>0</td>\n",
       "      <td>0</td>\n",
       "      <td>1</td>\n",
       "      <td>0.01</td>\n",
       "      <td>41</td>\n",
       "      <td>1</td>\n",
       "      <td>0</td>\n",
       "      <td>0</td>\n",
       "      <td>0</td>\n",
       "      <td>0</td>\n",
       "      <td>5</td>\n",
       "    </tr>\n",
       "  </tbody>\n",
       "</table>\n",
       "</div>"
      ],
      "text/plain": [
       "   ID  Day_No  Course_ID  Short_Promotion  Public_Holiday  Long_Promotion  \\\n",
       "0   1       1          1                0               1               1   \n",
       "1   2       2          1                0               0               1   \n",
       "2   3       3          1                0               0               1   \n",
       "3   4       4          1                0               0               1   \n",
       "4   5       5          1                0               0               1   \n",
       "\n",
       "   Competition_Metric  Sales  Course_Domain_Development  \\\n",
       "0                0.01     81                          1   \n",
       "1                0.01     79                          1   \n",
       "2                0.01     75                          1   \n",
       "3                0.01     80                          1   \n",
       "4                0.01     41                          1   \n",
       "\n",
       "   Course_Domain_Finance & Accounting  Course_Domain_Software Marketing  \\\n",
       "0                                   0                                 0   \n",
       "1                                   0                                 0   \n",
       "2                                   0                                 0   \n",
       "3                                   0                                 0   \n",
       "4                                   0                                 0   \n",
       "\n",
       "   Course_Type_Degree  Course_Type_Program  Day_OF_Week  \n",
       "0                   0                    0            1  \n",
       "1                   0                    0            2  \n",
       "2                   0                    0            3  \n",
       "3                   0                    0            4  \n",
       "4                   0                    0            5  "
      ]
     },
     "execution_count": 145,
     "metadata": {},
     "output_type": "execute_result"
    }
   ],
   "source": [
    "data.head()"
   ]
  },
  {
   "cell_type": "code",
   "execution_count": 146,
   "metadata": {},
   "outputs": [],
   "source": [
    "y=data['Sales'].iloc[:1000]\n",
    "data=data.drop('Sales',axis=1)\n",
    "X=data.iloc[:1000,2:]"
   ]
  },
  {
   "cell_type": "code",
   "execution_count": 147,
   "metadata": {},
   "outputs": [
    {
     "data": {
      "text/plain": [
       "0       81\n",
       "1       79\n",
       "2       75\n",
       "3       80\n",
       "4       41\n",
       "      ... \n",
       "995    145\n",
       "996    131\n",
       "997    130\n",
       "998     67\n",
       "999    125\n",
       "Name: Sales, Length: 1000, dtype: int64"
      ]
     },
     "execution_count": 147,
     "metadata": {},
     "output_type": "execute_result"
    }
   ],
   "source": [
    "y"
   ]
  },
  {
   "cell_type": "code",
   "execution_count": 148,
   "metadata": {},
   "outputs": [
    {
     "data": {
      "text/html": [
       "<div>\n",
       "<style scoped>\n",
       "    .dataframe tbody tr th:only-of-type {\n",
       "        vertical-align: middle;\n",
       "    }\n",
       "\n",
       "    .dataframe tbody tr th {\n",
       "        vertical-align: top;\n",
       "    }\n",
       "\n",
       "    .dataframe thead th {\n",
       "        text-align: right;\n",
       "    }\n",
       "</style>\n",
       "<table border=\"1\" class=\"dataframe\">\n",
       "  <thead>\n",
       "    <tr style=\"text-align: right;\">\n",
       "      <th></th>\n",
       "      <th>Course_ID</th>\n",
       "      <th>Short_Promotion</th>\n",
       "      <th>Public_Holiday</th>\n",
       "      <th>Long_Promotion</th>\n",
       "      <th>Competition_Metric</th>\n",
       "      <th>Course_Domain_Development</th>\n",
       "      <th>Course_Domain_Finance &amp; Accounting</th>\n",
       "      <th>Course_Domain_Software Marketing</th>\n",
       "      <th>Course_Type_Degree</th>\n",
       "      <th>Course_Type_Program</th>\n",
       "      <th>Day_OF_Week</th>\n",
       "    </tr>\n",
       "  </thead>\n",
       "  <tbody>\n",
       "    <tr>\n",
       "      <th>0</th>\n",
       "      <td>1</td>\n",
       "      <td>0</td>\n",
       "      <td>1</td>\n",
       "      <td>1</td>\n",
       "      <td>0.01</td>\n",
       "      <td>1</td>\n",
       "      <td>0</td>\n",
       "      <td>0</td>\n",
       "      <td>0</td>\n",
       "      <td>0</td>\n",
       "      <td>1</td>\n",
       "    </tr>\n",
       "    <tr>\n",
       "      <th>1</th>\n",
       "      <td>1</td>\n",
       "      <td>0</td>\n",
       "      <td>0</td>\n",
       "      <td>1</td>\n",
       "      <td>0.01</td>\n",
       "      <td>1</td>\n",
       "      <td>0</td>\n",
       "      <td>0</td>\n",
       "      <td>0</td>\n",
       "      <td>0</td>\n",
       "      <td>2</td>\n",
       "    </tr>\n",
       "    <tr>\n",
       "      <th>2</th>\n",
       "      <td>1</td>\n",
       "      <td>0</td>\n",
       "      <td>0</td>\n",
       "      <td>1</td>\n",
       "      <td>0.01</td>\n",
       "      <td>1</td>\n",
       "      <td>0</td>\n",
       "      <td>0</td>\n",
       "      <td>0</td>\n",
       "      <td>0</td>\n",
       "      <td>3</td>\n",
       "    </tr>\n",
       "    <tr>\n",
       "      <th>3</th>\n",
       "      <td>1</td>\n",
       "      <td>0</td>\n",
       "      <td>0</td>\n",
       "      <td>1</td>\n",
       "      <td>0.01</td>\n",
       "      <td>1</td>\n",
       "      <td>0</td>\n",
       "      <td>0</td>\n",
       "      <td>0</td>\n",
       "      <td>0</td>\n",
       "      <td>4</td>\n",
       "    </tr>\n",
       "    <tr>\n",
       "      <th>4</th>\n",
       "      <td>1</td>\n",
       "      <td>0</td>\n",
       "      <td>0</td>\n",
       "      <td>1</td>\n",
       "      <td>0.01</td>\n",
       "      <td>1</td>\n",
       "      <td>0</td>\n",
       "      <td>0</td>\n",
       "      <td>0</td>\n",
       "      <td>0</td>\n",
       "      <td>5</td>\n",
       "    </tr>\n",
       "  </tbody>\n",
       "</table>\n",
       "</div>"
      ],
      "text/plain": [
       "   Course_ID  Short_Promotion  Public_Holiday  Long_Promotion  \\\n",
       "0          1                0               1               1   \n",
       "1          1                0               0               1   \n",
       "2          1                0               0               1   \n",
       "3          1                0               0               1   \n",
       "4          1                0               0               1   \n",
       "\n",
       "   Competition_Metric  Course_Domain_Development  \\\n",
       "0                0.01                          1   \n",
       "1                0.01                          1   \n",
       "2                0.01                          1   \n",
       "3                0.01                          1   \n",
       "4                0.01                          1   \n",
       "\n",
       "   Course_Domain_Finance & Accounting  Course_Domain_Software Marketing  \\\n",
       "0                                   0                                 0   \n",
       "1                                   0                                 0   \n",
       "2                                   0                                 0   \n",
       "3                                   0                                 0   \n",
       "4                                   0                                 0   \n",
       "\n",
       "   Course_Type_Degree  Course_Type_Program  Day_OF_Week  \n",
       "0                   0                    0            1  \n",
       "1                   0                    0            2  \n",
       "2                   0                    0            3  \n",
       "3                   0                    0            4  \n",
       "4                   0                    0            5  "
      ]
     },
     "execution_count": 148,
     "metadata": {},
     "output_type": "execute_result"
    }
   ],
   "source": [
    "X.head()"
   ]
  },
  {
   "cell_type": "code",
   "execution_count": 149,
   "metadata": {},
   "outputs": [],
   "source": [
    "from sklearn.model_selection import train_test_split"
   ]
  },
  {
   "cell_type": "code",
   "execution_count": 150,
   "metadata": {},
   "outputs": [],
   "source": [
    "X_train,X_test,y_train,y_test=train_test_split(X,y,test_size=0.2,random_state=42)"
   ]
  },
  {
   "cell_type": "code",
   "execution_count": 151,
   "metadata": {},
   "outputs": [],
   "source": [
    "reg=LazyRegressor(verbose=0,predictions=True)"
   ]
  },
  {
   "cell_type": "code",
   "execution_count": 152,
   "metadata": {},
   "outputs": [
    {
     "name": "stderr",
     "output_type": "stream",
     "text": [
      "100%|██████████| 42/42 [00:03<00:00, 10.54it/s]\n"
     ]
    }
   ],
   "source": [
    "models,predictions=reg.fit(X_train,X_test,y_train,y_test)"
   ]
  },
  {
   "cell_type": "code",
   "execution_count": 153,
   "metadata": {},
   "outputs": [
    {
     "name": "stdout",
     "output_type": "stream",
     "text": [
      "                               Adjusted R-Squared  R-Squared  RMSE  Time Taken\n",
      "Model                                                                         \n",
      "LGBMRegressor                                0.72       0.74 16.73        0.10\n",
      "HistGradientBoostingRegressor                0.72       0.74 16.73        0.64\n",
      "GaussianProcessRegressor                     0.70       0.72 17.23        0.11\n",
      "GradientBoostingRegressor                    0.70       0.72 17.31        0.07\n",
      "KNeighborsRegressor                          0.69       0.71 17.51        0.03\n",
      "XGBRegressor                                 0.69       0.71 17.62        0.09\n",
      "ExtraTreesRegressor                          0.69       0.70 17.74        0.16\n",
      "RandomForestRegressor                        0.68       0.70 17.94        0.24\n",
      "BaggingRegressor                             0.68       0.70 17.97        0.13\n",
      "ExtraTreeRegressor                           0.68       0.69 18.01        0.02\n",
      "DecisionTreeRegressor                        0.68       0.69 18.01        0.02\n",
      "PoissonRegressor                             0.64       0.66 19.06        0.01\n",
      "SGDRegressor                                 0.63       0.65 19.29        0.02\n",
      "ElasticNetCV                                 0.63       0.65 19.29        0.09\n",
      "BayesianRidge                                0.63       0.65 19.29        0.01\n",
      "LassoCV                                      0.63       0.65 19.29        0.09\n",
      "Ridge                                        0.63       0.65 19.29        0.01\n",
      "RidgeCV                                      0.63       0.65 19.29        0.01\n",
      "Lars                                         0.63       0.65 19.29        0.02\n",
      "LassoLarsCV                                  0.63       0.65 19.29        0.02\n",
      "LassoLarsIC                                  0.63       0.65 19.29        0.01\n",
      "OrthogonalMatchingPursuitCV                  0.63       0.65 19.29        0.02\n",
      "LarsCV                                       0.63       0.65 19.29        0.03\n",
      "TransformedTargetRegressor                   0.63       0.65 19.30        0.02\n",
      "LinearRegression                             0.63       0.65 19.30        0.01\n",
      "Lasso                                        0.63       0.65 19.36        0.01\n",
      "HuberRegressor                               0.62       0.65 19.39        0.03\n",
      "PassiveAggressiveRegressor                   0.61       0.63 19.86        0.01\n",
      "LinearSVR                                    0.60       0.62 20.01        0.02\n",
      "MLPRegressor                                 0.59       0.61 20.22        1.49\n",
      "ElasticNet                                   0.57       0.60 20.71        0.01\n",
      "AdaBoostRegressor                            0.57       0.59 20.74        0.07\n",
      "SVR                                          0.56       0.59 20.90        0.06\n",
      "NuSVR                                        0.55       0.58 21.13        0.04\n",
      "RANSACRegressor                              0.55       0.58 21.16        0.07\n",
      "GeneralizedLinearRegressor                   0.51       0.54 22.20        0.02\n",
      "TweedieRegressor                             0.51       0.54 22.20        0.02\n",
      "GammaRegressor                               0.50       0.53 22.37        0.03\n",
      "OrthogonalMatchingPursuit                    0.39       0.42 24.82        0.01\n",
      "DummyRegressor                              -0.07      -0.01 32.70        0.01\n",
      "LassoLars                                   -0.07      -0.01 32.70        0.02\n",
      "KernelRidge                                 -7.49      -7.02 92.27        0.04\n"
     ]
    }
   ],
   "source": [
    "print(models)"
   ]
  },
  {
   "cell_type": "code",
   "execution_count": 154,
   "metadata": {},
   "outputs": [
    {
     "name": "stdout",
     "output_type": "stream",
     "text": [
      "0    93.29\n",
      "1   100.27\n",
      "2    73.24\n",
      "3   100.27\n",
      "4    73.24\n",
      "Name: LGBMRegressor, dtype: float64\n"
     ]
    }
   ],
   "source": [
    "print(predictions['LGBMRegressor'].head())"
   ]
  },
  {
   "cell_type": "code",
   "execution_count": 155,
   "metadata": {},
   "outputs": [
    {
     "name": "stdout",
     "output_type": "stream",
     "text": [
      "0    81\n",
      "1    79\n",
      "2    75\n",
      "3    80\n",
      "4    41\n",
      "Name: Sales, dtype: int64\n"
     ]
    }
   ],
   "source": [
    "print(y.head())"
   ]
  },
  {
   "cell_type": "markdown",
   "metadata": {},
   "source": [
    "From lazypredict we can conclude that of all the regression model, LGBMRegressor is best suited for prediction"
   ]
  },
  {
   "cell_type": "markdown",
   "metadata": {},
   "source": [
    "# Actual Prediction"
   ]
  },
  {
   "cell_type": "code",
   "execution_count": 156,
   "metadata": {},
   "outputs": [],
   "source": [
    "train.drop('User_Traffic',axis=1,inplace=True)"
   ]
  },
  {
   "cell_type": "code",
   "execution_count": 157,
   "metadata": {},
   "outputs": [],
   "source": [
    "y=train['Sales'].iloc[:]\n",
    "train=train.drop('Sales',axis=1)\n",
    "X=train.iloc[:,2:]"
   ]
  },
  {
   "cell_type": "code",
   "execution_count": 158,
   "metadata": {},
   "outputs": [],
   "source": [
    "import lightgbm as ltb\n",
    "model=ltb.LGBMRegressor()"
   ]
  },
  {
   "cell_type": "code",
   "execution_count": 159,
   "metadata": {},
   "outputs": [
    {
     "data": {
      "text/plain": [
       "LGBMRegressor()"
      ]
     },
     "execution_count": 159,
     "metadata": {},
     "output_type": "execute_result"
    }
   ],
   "source": [
    "model.fit(X,y)"
   ]
  },
  {
   "cell_type": "code",
   "execution_count": 160,
   "metadata": {},
   "outputs": [],
   "source": [
    "test['Day_OF_Week']=test['Day_No']%7"
   ]
  },
  {
   "cell_type": "code",
   "execution_count": 161,
   "metadata": {},
   "outputs": [
    {
     "data": {
      "text/html": [
       "<div>\n",
       "<style scoped>\n",
       "    .dataframe tbody tr th:only-of-type {\n",
       "        vertical-align: middle;\n",
       "    }\n",
       "\n",
       "    .dataframe tbody tr th {\n",
       "        vertical-align: top;\n",
       "    }\n",
       "\n",
       "    .dataframe thead th {\n",
       "        text-align: right;\n",
       "    }\n",
       "</style>\n",
       "<table border=\"1\" class=\"dataframe\">\n",
       "  <thead>\n",
       "    <tr style=\"text-align: right;\">\n",
       "      <th></th>\n",
       "      <th>ID</th>\n",
       "      <th>Day_No</th>\n",
       "      <th>Course_ID</th>\n",
       "      <th>Short_Promotion</th>\n",
       "      <th>Public_Holiday</th>\n",
       "      <th>Long_Promotion</th>\n",
       "      <th>Competition_Metric</th>\n",
       "      <th>Course_Domain_Development</th>\n",
       "      <th>Course_Domain_Finance &amp; Accounting</th>\n",
       "      <th>Course_Domain_Software Marketing</th>\n",
       "      <th>Course_Type_Degree</th>\n",
       "      <th>Course_Type_Program</th>\n",
       "      <th>Day_OF_Week</th>\n",
       "    </tr>\n",
       "  </thead>\n",
       "  <tbody>\n",
       "    <tr>\n",
       "      <th>0</th>\n",
       "      <td>883</td>\n",
       "      <td>883</td>\n",
       "      <td>1</td>\n",
       "      <td>1</td>\n",
       "      <td>0</td>\n",
       "      <td>1</td>\n",
       "      <td>0.01</td>\n",
       "      <td>1</td>\n",
       "      <td>0</td>\n",
       "      <td>0</td>\n",
       "      <td>0</td>\n",
       "      <td>0</td>\n",
       "      <td>1</td>\n",
       "    </tr>\n",
       "    <tr>\n",
       "      <th>1</th>\n",
       "      <td>884</td>\n",
       "      <td>884</td>\n",
       "      <td>1</td>\n",
       "      <td>1</td>\n",
       "      <td>0</td>\n",
       "      <td>1</td>\n",
       "      <td>0.01</td>\n",
       "      <td>1</td>\n",
       "      <td>0</td>\n",
       "      <td>0</td>\n",
       "      <td>0</td>\n",
       "      <td>0</td>\n",
       "      <td>2</td>\n",
       "    </tr>\n",
       "    <tr>\n",
       "      <th>2</th>\n",
       "      <td>885</td>\n",
       "      <td>885</td>\n",
       "      <td>1</td>\n",
       "      <td>1</td>\n",
       "      <td>0</td>\n",
       "      <td>1</td>\n",
       "      <td>0.01</td>\n",
       "      <td>1</td>\n",
       "      <td>0</td>\n",
       "      <td>0</td>\n",
       "      <td>0</td>\n",
       "      <td>0</td>\n",
       "      <td>3</td>\n",
       "    </tr>\n",
       "    <tr>\n",
       "      <th>3</th>\n",
       "      <td>886</td>\n",
       "      <td>886</td>\n",
       "      <td>1</td>\n",
       "      <td>1</td>\n",
       "      <td>0</td>\n",
       "      <td>1</td>\n",
       "      <td>0.01</td>\n",
       "      <td>1</td>\n",
       "      <td>0</td>\n",
       "      <td>0</td>\n",
       "      <td>0</td>\n",
       "      <td>0</td>\n",
       "      <td>4</td>\n",
       "    </tr>\n",
       "    <tr>\n",
       "      <th>4</th>\n",
       "      <td>887</td>\n",
       "      <td>887</td>\n",
       "      <td>1</td>\n",
       "      <td>0</td>\n",
       "      <td>0</td>\n",
       "      <td>1</td>\n",
       "      <td>0.01</td>\n",
       "      <td>1</td>\n",
       "      <td>0</td>\n",
       "      <td>0</td>\n",
       "      <td>0</td>\n",
       "      <td>0</td>\n",
       "      <td>5</td>\n",
       "    </tr>\n",
       "  </tbody>\n",
       "</table>\n",
       "</div>"
      ],
      "text/plain": [
       "    ID  Day_No  Course_ID  Short_Promotion  Public_Holiday  Long_Promotion  \\\n",
       "0  883     883          1                1               0               1   \n",
       "1  884     884          1                1               0               1   \n",
       "2  885     885          1                1               0               1   \n",
       "3  886     886          1                1               0               1   \n",
       "4  887     887          1                0               0               1   \n",
       "\n",
       "   Competition_Metric  Course_Domain_Development  \\\n",
       "0                0.01                          1   \n",
       "1                0.01                          1   \n",
       "2                0.01                          1   \n",
       "3                0.01                          1   \n",
       "4                0.01                          1   \n",
       "\n",
       "   Course_Domain_Finance & Accounting  Course_Domain_Software Marketing  \\\n",
       "0                                   0                                 0   \n",
       "1                                   0                                 0   \n",
       "2                                   0                                 0   \n",
       "3                                   0                                 0   \n",
       "4                                   0                                 0   \n",
       "\n",
       "   Course_Type_Degree  Course_Type_Program  Day_OF_Week  \n",
       "0                   0                    0            1  \n",
       "1                   0                    0            2  \n",
       "2                   0                    0            3  \n",
       "3                   0                    0            4  \n",
       "4                   0                    0            5  "
      ]
     },
     "execution_count": 161,
     "metadata": {},
     "output_type": "execute_result"
    }
   ],
   "source": [
    "test.head()"
   ]
  },
  {
   "cell_type": "code",
   "execution_count": 162,
   "metadata": {},
   "outputs": [],
   "source": [
    "data=test.iloc[:,2:]"
   ]
  },
  {
   "cell_type": "code",
   "execution_count": 164,
   "metadata": {},
   "outputs": [],
   "source": [
    "prediction=model.predict(data)"
   ]
  },
  {
   "cell_type": "code",
   "execution_count": 165,
   "metadata": {},
   "outputs": [
    {
     "data": {
      "text/plain": [
       "array([116.73805838, 109.13467845, 109.13467845, ..., 123.65785205,\n",
       "       123.65785205, 125.87647412])"
      ]
     },
     "execution_count": 165,
     "metadata": {},
     "output_type": "execute_result"
    }
   ],
   "source": [
    "prediction"
   ]
  },
  {
   "cell_type": "markdown",
   "metadata": {},
   "source": [
    "# Converting dataframe to csv_file"
   ]
  },
  {
   "cell_type": "code",
   "execution_count": 166,
   "metadata": {},
   "outputs": [],
   "source": [
    "result=pd.DataFrame(prediction,columns=['Sales'],index=[test.ID])"
   ]
  },
  {
   "cell_type": "code",
   "execution_count": 167,
   "metadata": {},
   "outputs": [
    {
     "data": {
      "text/html": [
       "<div>\n",
       "<style scoped>\n",
       "    .dataframe tbody tr th:only-of-type {\n",
       "        vertical-align: middle;\n",
       "    }\n",
       "\n",
       "    .dataframe tbody tr th {\n",
       "        vertical-align: top;\n",
       "    }\n",
       "\n",
       "    .dataframe thead th {\n",
       "        text-align: right;\n",
       "    }\n",
       "</style>\n",
       "<table border=\"1\" class=\"dataframe\">\n",
       "  <thead>\n",
       "    <tr style=\"text-align: right;\">\n",
       "      <th></th>\n",
       "      <th>Sales</th>\n",
       "    </tr>\n",
       "    <tr>\n",
       "      <th>ID</th>\n",
       "      <th></th>\n",
       "    </tr>\n",
       "  </thead>\n",
       "  <tbody>\n",
       "    <tr>\n",
       "      <th>883</th>\n",
       "      <td>116.74</td>\n",
       "    </tr>\n",
       "    <tr>\n",
       "      <th>884</th>\n",
       "      <td>109.13</td>\n",
       "    </tr>\n",
       "    <tr>\n",
       "      <th>885</th>\n",
       "      <td>109.13</td>\n",
       "    </tr>\n",
       "    <tr>\n",
       "      <th>886</th>\n",
       "      <td>108.69</td>\n",
       "    </tr>\n",
       "    <tr>\n",
       "      <th>887</th>\n",
       "      <td>71.41</td>\n",
       "    </tr>\n",
       "  </tbody>\n",
       "</table>\n",
       "</div>"
      ],
      "text/plain": [
       "     Sales\n",
       "ID        \n",
       "883 116.74\n",
       "884 109.13\n",
       "885 109.13\n",
       "886 108.69\n",
       "887  71.41"
      ]
     },
     "execution_count": 167,
     "metadata": {},
     "output_type": "execute_result"
    }
   ],
   "source": [
    "result.head()"
   ]
  },
  {
   "cell_type": "code",
   "execution_count": 168,
   "metadata": {},
   "outputs": [],
   "source": [
    "result.to_csv('sampleSubmission.csv')"
   ]
  },
  {
   "cell_type": "code",
   "execution_count": null,
   "metadata": {},
   "outputs": [],
   "source": []
  }
 ],
 "metadata": {
  "kernelspec": {
   "display_name": "Python 3",
   "language": "python",
   "name": "python3"
  },
  "language_info": {
   "codemirror_mode": {
    "name": "ipython",
    "version": 3
   },
   "file_extension": ".py",
   "mimetype": "text/x-python",
   "name": "python",
   "nbconvert_exporter": "python",
   "pygments_lexer": "ipython3",
   "version": "3.8.5"
  }
 },
 "nbformat": 4,
 "nbformat_minor": 5
}
